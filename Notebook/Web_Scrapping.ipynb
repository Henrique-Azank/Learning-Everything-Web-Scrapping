{
 "cells": [
  {
   "cell_type": "markdown",
   "metadata": {},
   "source": [
    "<h3> Fundamentos de Web Scrapping </h3>\n",
    "\n",
    "A habilidade adquirir dados armazenados na internet e adequadamente analisar e readequá-los para o ambiente Python é fundamental para a Ciência de Dados. ***Adquirir dados da internet e automaticamente atualizar bancos*** de dados com informações em tempo real é fundamental para aplicações cotidianas e ainda mais fundamental para aplicações de ***reinforced learning.***\n",
    "\n",
    "Web Scrapping: Forma fundamental de se adquirir informações em um mundo onde a **presença na internet é obrigatória** para os negócios de qualquer setor e qualquer tamanho. Exemplos de informações podem ser preços, avaliações, comentários, palavras chaves e etc. Trata-se de uma forma de também organizar dados contidos em múltiplas fontes não uniformes. \n",
    "\n",
    "***Pipeline de Tratamento de Dados + Modelagem:*** \n",
    "\n",
    "&nbsp;\n",
    "\n",
    "> Dados da Internet **%>%** Web Scrapping **%>%** Formatação **%>%** DataSets **%>%** DataFrames **%>%** Modelagem **%>%** Ajuste **%>%** Insights\n",
    "\n",
    "&nbsp;\n",
    "\n",
    " Essa pipeline pode ser resumida em 3 grandes fases: \n",
    "\n",
    "***Introdução:*** Inicialmente, devemos definir qual nosso objetivo, ou seja, o quje desejamos construir, analisar ou modelar. Uma vez que obtivermos nosso objetivo, devemos encontrar fontes para as informações que nos auxiliaram a atingir nossos objetivos. \n",
    "\n",
    "***Aquisição:*** Ler os dados brutos contidos na internet via nosso environment de python (mediante pacotes como ***beautiful soup, selenium e scrapy***) e formatar os dados adquiridos de forma a se tornarem passivos de utilização (i.e Data Frames de Pandas, listas, dicionários e etc..)\n",
    "\n",
    "***Processamento***: Basicamente aqui se foca em conduzir as análises de Algoritmos, modelagem, ajuste e visualização de resultados, usando os dados formatados anteriormente. \n",
    "\n",
    "&nbsp;\n",
    "\n",
    "- **H.T.M.L** = HyperText Markup Language\n",
    "\n",
    "Trata-se de uma linguagem para ler e dispor elementos em sites (Ctrl + U geralmente é utilizado para mostrar o código fonte de html). Geralmente se analisa um código HTML por meio de uma árvore genealógica. Todos os elementos tem como origem o par < H T M L> </ H T M L >. É atraves da navegação desta árvore que podemos acessar os elementos/informações de ineteresse para nossos projetos. \n",
    "\n",
    "&nbsp;\n",
    "\n",
    "<img src = 'HTML_Tree.png' alt = 'Mean' width = 300/>"
   ]
  },
  {
   "cell_type": "markdown",
   "metadata": {},
   "source": [
    "- **Tags e Atributos:** \n",
    "\n",
    "Informações contidas no interior dos tags de HTML podem ser valiosas para nossos propósitos. Exemplos de Tags de HTML podem ser ***html, div, p, title e etc..***. Essas tags podem possuir atributos, que modificam a forma com que o conteúdo no interior destas tags é disposto. Geralmente, a sintaxe é dada por: \n"
   ]
  },
  {
   "cell_type": "code",
   "execution_count": 14,
   "metadata": {},
   "outputs": [
    {
     "data": {
      "text/html": [
       "\n",
       "<Nome do Tag   Nome do Atributo = 'Informação do Atributo'>\n",
       "\n",
       "    Conteúdo do Tag\n",
       "\n",
       "</Nome do Tag>\n"
      ],
      "text/plain": [
       "<IPython.core.display.HTML object>"
      ]
     },
     "metadata": {},
     "output_type": "display_data"
    }
   ],
   "source": [
    "%%HTML\n",
    "\n",
    "<Nome do Tag   Nome do Atributo = 'Informação do Atributo'>\n",
    "\n",
    "    Conteúdo do Tag\n",
    "\n",
    "</Nome do Tag>"
   ]
  },
  {
   "cell_type": "code",
   "execution_count": 19,
   "metadata": {},
   "outputs": [
    {
     "data": {
      "text/html": [
       "\n",
       "<!-- Aqui o Atributio id, usado para identificar este elemento, é colocado como Id1 -->\n",
       "<!-- De Maneira geral, assim como em todo o mundo, a identificação de um tag deve ser ÚNICA-->\n",
       " \n",
       "<div id = \"Id1\" >\n",
       "\n",
       "    Ola meu Nome é ....\n",
       "\n",
       "</div>\n"
      ],
      "text/plain": [
       "<IPython.core.display.HTML object>"
      ]
     },
     "metadata": {},
     "output_type": "display_data"
    }
   ],
   "source": [
    "%%HTML\n",
    "\n",
    "<!-- Aqui o Atributio id, usado para identificar este elemento, é colocado como Id1 -->\n",
    "<!-- De Maneira geral, assim como em todo o mundo, a identificação de um tag deve ser ÚNICA-->\n",
    " \n",
    "<div id = \"Id1\" >\n",
    "\n",
    "    Ola meu Nome é ....\n",
    "\n",
    "</div>"
   ]
  },
  {
   "cell_type": "code",
   "execution_count": 24,
   "metadata": {},
   "outputs": [
    {
     "data": {
      "text/html": [
       "\n",
       "<!-- Um Exemplo de Tag comum é \"a\", para hyperlinks-->\n",
       "<!-- O Atributo \"href\" é o Hyperlink em si -->\n",
       "\n",
       "<a href=https://www.youtube.com/watch?v=dQw4w9WgXcQ\"> \n",
       "    \n",
       "    Este é Meu Vídeo Favorito \n",
       "\n",
       "</a>\n"
      ],
      "text/plain": [
       "<IPython.core.display.HTML object>"
      ]
     },
     "metadata": {},
     "output_type": "display_data"
    }
   ],
   "source": [
    "%%HTML \n",
    "\n",
    "<!-- Um Exemplo de Tag comum é \"a\", para hyperlinks-->\n",
    "<!-- O Atributo \"href\" é o Hyperlink em si -->\n",
    "\n",
    "<a href=https://www.youtube.com/watch?v=dQw4w9WgXcQ\"> \n",
    "    \n",
    "    Este é Meu Vídeo Favorito \n",
    "\n",
    "</a>"
   ]
  },
  {
   "cell_type": "markdown",
   "metadata": {},
   "source": [
    "- ***XPath Notation***: \n",
    "\n",
    "Trata-se de uma [linguagem de consulta(query)](https://pt.wikipedia.org/wiki/XPath) de documentos do tipo XML. Um exemplo de XPath notation, que facilita a identificação de elementos no código HTML, é dada a seguir: \n",
    "\n",
    "***Path = \"/html/body/div[2]\"*** \n",
    "\n",
    "&nbsp;\n"
   ]
  },
  {
   "cell_type": "code",
   "execution_count": 27,
   "metadata": {},
   "outputs": [
    {
     "data": {
      "text/html": [
       "\n",
       "<html>\n",
       "\n",
       "    <body>\n",
       "\n",
       "        <div id = \"Id1\">\n",
       "            Conjunto Div 1\n",
       "        </div>\n",
       "\n",
       "        <div>\n",
       "            Conjunto Div 2 (Resultado do Path)\n",
       "        </div>\n",
       "\n",
       "    </body>\n",
       "    \n",
       "</html>\n"
      ],
      "text/plain": [
       "<IPython.core.display.HTML object>"
      ]
     },
     "metadata": {},
     "output_type": "display_data"
    }
   ],
   "source": [
    "%%HTML\n",
    "\n",
    "<html>\n",
    "\n",
    "    <body>\n",
    "\n",
    "        <div id = \"Id1\">\n",
    "            Conjunto Div 1\n",
    "        </div>\n",
    "\n",
    "        <div>\n",
    "            Conjunto Div 2 (Resultado do Path)\n",
    "        </div>\n",
    "\n",
    "    </body>\n",
    "    \n",
    "</html>"
   ]
  },
  {
   "cell_type": "markdown",
   "metadata": {},
   "source": [
    "&nbsp;\n",
    "\n",
    "***Esse caminho identifica a segunda tag \"div\", contida no interior da tag \"body\" do código html***. \n",
    "\n",
    "Este tipo de notação é muito familiar para aqueles acostumados a navegar entre diretórios e para qualquer pessoa acostumada em utilizar powershell. Ale´m do número da tag, podemos identificar elementos em XPath via seus atributos específicos. \n",
    "\n",
    "***Path = \"/html/body/div[@id = \"Id1\"]\"*** \n",
    "\n",
    "&nbsp;"
   ]
  },
  {
   "cell_type": "code",
   "execution_count": 28,
   "metadata": {},
   "outputs": [
    {
     "data": {
      "text/html": [
       "\n",
       "<html>\n",
       "\n",
       "    <body>\n",
       "\n",
       "        <div id = \"Id1\">\n",
       "            Conjunto Div 1 (Resultado do Path)\n",
       "        </div>\n",
       "\n",
       "        <div>\n",
       "            Conjunto Div 2 \n",
       "        </div>\n",
       "\n",
       "    </body>\n",
       "    \n",
       "</html>\n"
      ],
      "text/plain": [
       "<IPython.core.display.HTML object>"
      ]
     },
     "metadata": {},
     "output_type": "display_data"
    }
   ],
   "source": [
    "%%HTML\n",
    "\n",
    "<html>\n",
    "\n",
    "    <body>\n",
    "\n",
    "        <div id = \"Id1\">\n",
    "            Conjunto Div 1 (Resultado do Path)\n",
    "        </div>\n",
    "\n",
    "        <div>\n",
    "            Conjunto Div 2 \n",
    "        </div>\n",
    "\n",
    "    </body>\n",
    "    \n",
    "</html>"
   ]
  },
  {
   "cell_type": "markdown",
   "metadata": {},
   "source": [
    "***Esse caminho identifica a tag \"div\", contida no interior da tag \"body\", com atributo \"id\" igual a \"Id1\" do código html***"
   ]
  }
 ],
 "metadata": {
  "interpreter": {
   "hash": "c59418d2943c3ef6ab1fadca100b9edbb9aee02e521a94f2781e3ffab37bf7e9"
  },
  "kernelspec": {
   "display_name": "Python 3.10.3 ('Environment_Scrap': venv)",
   "language": "python",
   "name": "python3"
  },
  "language_info": {
   "codemirror_mode": {
    "name": "ipython",
    "version": 3
   },
   "file_extension": ".py",
   "mimetype": "text/x-python",
   "name": "python",
   "nbconvert_exporter": "python",
   "pygments_lexer": "ipython3",
   "version": "3.10.3"
  },
  "orig_nbformat": 4
 },
 "nbformat": 4,
 "nbformat_minor": 2
}
